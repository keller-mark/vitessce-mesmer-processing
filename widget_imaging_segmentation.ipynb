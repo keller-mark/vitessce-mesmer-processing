{
 "cells": [
  {
   "cell_type": "markdown",
   "metadata": {
    "nbsphinx": "hidden"
   },
   "source": [
    "# Visualization of Mesmer cell segmentation mask"
   ]
  },
  {
   "cell_type": "code",
   "execution_count": 1,
   "metadata": {},
   "outputs": [],
   "source": [
    "from vitessce import (\n",
    "    VitessceConfig,\n",
    "    Component as cm,\n",
    "    CoordinationType as ct,\n",
    "    OmeTiffWrapper,\n",
    "    MultiImageWrapper,\n",
    ")\n",
    "from os.path import join"
   ]
  },
  {
   "cell_type": "code",
   "execution_count": 10,
   "metadata": {},
   "outputs": [],
   "source": [
    "vc = VitessceConfig(name='Mesmer bitmask visualization')\n",
    "dataset = vc.add_dataset(name='MCMicro').add_object(\n",
    "    MultiImageWrapper(\n",
    "        image_wrappers=[\n",
    "            OmeTiffWrapper(img_path='../../../mesmer/data/processed/vectra_breast_cancer.ome.tif', name='Image'),\n",
    "            OmeTiffWrapper(img_path='../../../mesmer/data/processed/vectra_breast_cancer_feature_0.ome.tif', name='Whole-cell mask', is_bitmask=True),\n",
    "            OmeTiffWrapper(img_path='../../../mesmer/data/processed/vectra_breast_cancer_feature_1.ome.tif', name='Nuclear mask', is_bitmask=True),\n",
    "        ]\n",
    "   )\n",
    ")\n",
    "spatial = vc.add_view(dataset, cm.SPATIAL)\n",
    "status = vc.add_view(dataset, cm.STATUS)\n",
    "lc = vc.add_view(dataset, cm.LAYER_CONTROLLER)\n",
    "vc.layout(spatial | (lc / status));"
   ]
  },
  {
   "cell_type": "markdown",
   "metadata": {},
   "source": [
    "## 2. Create the Vitessce widget"
   ]
  },
  {
   "cell_type": "code",
   "execution_count": 11,
   "metadata": {},
   "outputs": [
    {
     "name": "stderr",
     "output_type": "stream",
     "text": [
      "[2021-10-22 16:37:12 -0400] [49989] [INFO] Running on http://127.0.0.1:8003 (CTRL + C to quit)\n"
     ]
    },
    {
     "data": {
      "application/vnd.jupyter.widget-view+json": {
       "model_id": "8070f6a40afc4ea9bf944b6c9c18265d",
       "version_major": 2,
       "version_minor": 0
      },
      "text/plain": [
       "VitessceWidget(config={'version': '1.0.4', 'name': 'MCMicro Bitmask Visualization', 'description': 'Segmentati…"
      ]
     },
     "metadata": {},
     "output_type": "display_data"
    }
   ],
   "source": [
    "vw = vc.widget()\n",
    "vw"
   ]
  },
  {
   "cell_type": "code",
   "execution_count": null,
   "metadata": {},
   "outputs": [],
   "source": []
  }
 ],
 "metadata": {
  "kernelspec": {
   "display_name": "Python 3",
   "language": "python",
   "name": "python3"
  },
  "language_info": {
   "codemirror_mode": {
    "name": "ipython",
    "version": 3
   },
   "file_extension": ".py",
   "mimetype": "text/x-python",
   "name": "python",
   "nbconvert_exporter": "python",
   "pygments_lexer": "ipython3",
   "version": "3.9.4"
  }
 },
 "nbformat": 4,
 "nbformat_minor": 4
}
